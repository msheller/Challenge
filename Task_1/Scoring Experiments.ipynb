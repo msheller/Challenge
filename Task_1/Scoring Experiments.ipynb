{
 "cells": [
  {
   "cell_type": "code",
   "execution_count": null,
   "metadata": {},
   "outputs": [],
   "source": [
    "import pickle\n",
    "import os\n",
    "import pandas as pd\n",
    "import matplotlib.pyplot as plt"
   ]
  },
  {
   "cell_type": "code",
   "execution_count": null,
   "metadata": {},
   "outputs": [],
   "source": [
    "# Adjust these for the system you are running on\n",
    "\n",
    "checkpoint_path = '/raid/msheller/fets_challenge/workspace/checkpoint'\n",
    "experiments = [\n",
    "    21,\n",
    "    22,\n",
    "    20,\n",
    "    4,\n",
    "    23,\n",
    "    24,\n",
    "    27,\n",
    "    25,\n",
    "    28,\n",
    "    26,\n",
    "]"
   ]
  },
  {
   "cell_type": "code",
   "execution_count": null,
   "metadata": {},
   "outputs": [],
   "source": [
    "def load_results_dataframe(experiment_number):\n",
    "    global checkpoint_path\n",
    "\n",
    "    state_path = os.path.join(checkpoint_path, 'experiment_{}'.format(experiment_number), 'state.pkl')\n",
    "\n",
    "    with open(state_path, 'rb') as f:\n",
    "        results = pickle.load(f)\n",
    "\n",
    "    collaborator_names, round_num, collaborator_time_stats, total_simulated_time, \\\n",
    "                         best_dice, best_dice_over_time_auc, collaborators_chosen_each_round, \\\n",
    "                         collaborator_times_per_round, experiment_results, summary = results\n",
    "    \n",
    "    return pd.DataFrame(data=experiment_results)"
   ]
  },
  {
   "cell_type": "code",
   "execution_count": null,
   "metadata": {},
   "outputs": [],
   "source": [
    "dfs = {ex: load_results_dataframe(ex) for ex in experiments}"
   ]
  },
  {
   "cell_type": "code",
   "execution_count": null,
   "metadata": {},
   "outputs": [],
   "source": [
    "def get_best_round(df, round_to=6):\n",
    "    # we round because I have found rounding errors in the least-significant digits that throw off argmax\n",
    "    return df.convergence_score.round(round_to).argmax()"
   ]
  },
  {
   "cell_type": "code",
   "execution_count": null,
   "metadata": {},
   "outputs": [],
   "source": [
    "df_rows = []\n",
    "for ex, df in dfs.items():\n",
    "    best = get_best_round(df)\n",
    "    d = df.iloc[best:best+1]\n",
    "    d['experiment'] = ex\n",
    "    d['Total Sim Days'] = (df['time'].max() / 86400).round(3)\n",
    "    d['Total Rounds'] = df['round'].max()\n",
    "    df_rows.append(d)\n",
    "df = pd.concat(df_rows)\n",
    "df = df.set_index('experiment')\n",
    "df"
   ]
  },
  {
   "cell_type": "code",
   "execution_count": null,
   "metadata": {},
   "outputs": [],
   "source": []
  }
 ],
 "metadata": {
  "kernelspec": {
   "display_name": "fets_challenge",
   "language": "python",
   "name": "fets_challenge"
  },
  "language_info": {
   "codemirror_mode": {
    "name": "ipython",
    "version": 3
   },
   "file_extension": ".py",
   "mimetype": "text/x-python",
   "name": "python",
   "nbconvert_exporter": "python",
   "pygments_lexer": "ipython3",
   "version": "3.7.11"
  }
 },
 "nbformat": 4,
 "nbformat_minor": 4
}
