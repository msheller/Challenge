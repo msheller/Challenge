{
 "cells": [
  {
   "cell_type": "code",
   "execution_count": 15,
   "metadata": {},
   "outputs": [],
   "source": [
    "import pickle\n",
    "import pandas as pd\n",
    "import os\n",
    "import numpy as np"
   ]
  },
  {
   "cell_type": "code",
   "execution_count": 6,
   "metadata": {},
   "outputs": [],
   "source": [
    "# Adjust these for the system you are running on\n",
    "\n",
    "checkpoint_path = '/raid/msheller/fets_challenge/workspace/checkpoint'\n",
    "experiments = [\n",
    "    21,\n",
    "    22,\n",
    "    20,\n",
    "    4,\n",
    "    23,\n",
    "    24,\n",
    "    27,\n",
    "    25,\n",
    "    28,\n",
    "    26,\n",
    "]"
   ]
  },
  {
   "cell_type": "code",
   "execution_count": 7,
   "metadata": {},
   "outputs": [],
   "source": [
    "def load_tensor_db(db_prefix, experiment_number):\n",
    "    global checkpoint_path\n",
    "\n",
    "    pkl_path = os.path.join(checkpoint_path, 'experiment_{}'.format(experiment_number), '{}_tensor_db.pkl'.format(db_prefix))\n",
    "\n",
    "    return pd.read_pickle(pkl_path)"
   ]
  },
  {
   "cell_type": "code",
   "execution_count": 28,
   "metadata": {},
   "outputs": [],
   "source": [
    "def collab_db_needed(experiment_number):\n",
    "    try:\n",
    "        agg_db = load_tensor_db('aggregator', experiment_number)\n",
    "    except FileNotFoundError:\n",
    "        print(\"Experiment\", experiment_number, \"has no agg db. Skipping\")\n",
    "        return\n",
    "    \n",
    "    try:\n",
    "        col_db = load_tensor_db('10', experiment_number)\n",
    "    except FileNotFoundError:\n",
    "        print(\"Experiment\", experiment_number, \"has no col 10 db. Skipping\")\n",
    "        return\n",
    "    \n",
    "    agg_db_tensor_names = agg_db.tensor_name.unique()\n",
    "    col_db_tensor_names = col_db.tensor_name.unique()\n",
    "\n",
    "    extra_agg_tensors = np.setdiff1d(agg_db_tensor_names, col_db_tensor_names)\n",
    "    extra_col_tensors = np.setdiff1d(col_db_tensor_names, agg_db_tensor_names)\n",
    "    \n",
    "    print(\"Experiment\", experiment_number)\n",
    "    print(\"\\tExtra Agg Tensors:\", extra_agg_tensors)\n",
    "    print(\"\\tExtra Col Tensors:\", extra_col_tensors)\n",
    "    print(\"\\tCol DB needed:\", len(extra_col_tensors) != 0)\n",
    "    print(\"\")"
   ]
  },
  {
   "cell_type": "code",
   "execution_count": 29,
   "metadata": {},
   "outputs": [
    {
     "name": "stdout",
     "output_type": "stream",
     "text": [
      "Experiment 21\n",
      "\tExtra Agg Tensors: []\n",
      "\tExtra Col Tensors: []\n",
      "\tCol DB needed: False\n",
      "\n",
      "Experiment 22\n",
      "\tExtra Agg Tensors: []\n",
      "\tExtra Col Tensors: []\n",
      "\tCol DB needed: False\n",
      "\n",
      "Experiment 20\n",
      "\tExtra Agg Tensors: []\n",
      "\tExtra Col Tensors: []\n",
      "\tCol DB needed: False\n",
      "\n",
      "Experiment 4 has no col 10 db. Skipping\n",
      "Experiment 23\n",
      "\tExtra Agg Tensors: []\n",
      "\tExtra Col Tensors: []\n",
      "\tCol DB needed: False\n",
      "\n",
      "Experiment 24\n",
      "\tExtra Agg Tensors: []\n",
      "\tExtra Col Tensors: []\n",
      "\tCol DB needed: False\n",
      "\n",
      "Experiment 27\n",
      "\tExtra Agg Tensors: []\n",
      "\tExtra Col Tensors: []\n",
      "\tCol DB needed: False\n",
      "\n",
      "Experiment 25\n",
      "\tExtra Agg Tensors: []\n",
      "\tExtra Col Tensors: []\n",
      "\tCol DB needed: False\n",
      "\n",
      "Experiment 28\n",
      "\tExtra Agg Tensors: []\n",
      "\tExtra Col Tensors: []\n",
      "\tCol DB needed: False\n",
      "\n",
      "Experiment 26\n",
      "\tExtra Agg Tensors: []\n",
      "\tExtra Col Tensors: ['performance_evaluation_metric_binary_DICE_ET'\n",
      " 'performance_evaluation_metric_binary_DICE_TC'\n",
      " 'performance_evaluation_metric_binary_DICE_WT']\n",
      "\tCol DB needed: True\n",
      "\n"
     ]
    }
   ],
   "source": [
    "for ex in experiments:\n",
    "    collab_db_needed(ex)"
   ]
  },
  {
   "cell_type": "code",
   "execution_count": null,
   "metadata": {},
   "outputs": [],
   "source": []
  }
 ],
 "metadata": {
  "kernelspec": {
   "display_name": "fets_challenge",
   "language": "python",
   "name": "fets_challenge"
  },
  "language_info": {
   "codemirror_mode": {
    "name": "ipython",
    "version": 3
   },
   "file_extension": ".py",
   "mimetype": "text/x-python",
   "name": "python",
   "nbconvert_exporter": "python",
   "pygments_lexer": "ipython3",
   "version": "3.7.11"
  }
 },
 "nbformat": 4,
 "nbformat_minor": 4
}
